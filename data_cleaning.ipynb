{
 "cells": [
  {
   "cell_type": "code",
   "execution_count": null,
   "metadata": {},
   "outputs": [],
   "source": [
    "import holoviews as hv\n",
    "hv.extension('bokeh')"
   ]
  },
  {
   "cell_type": "code",
   "execution_count": null,
   "metadata": {},
   "outputs": [],
   "source": [
    "import os\n",
    "import datetime\n",
    "\n",
    "from pytz import timezone, utc\n",
    "import pandas as pd\n",
    "import numpy as np\n",
    "\n",
    "def to_NZDT(dates):\n",
    "    nzdt = []\n",
    "    utcs = []\n",
    "    nztz = timezone('Pacific/Auckland')\n",
    "    \n",
    "    for _dt in dates:\n",
    "        date_utc = utc.localize(_dt.to_pydatetime())\n",
    "        date_nzdt = date_utc.astimezone(nztz)\n",
    "        nzdt.append(str(date_nzdt))\n",
    "        utcs.append(str(date_utc))\n",
    "    return pd.DataFrame({'date_nzdt': nzdt, 'date_utc':utcs})\n",
    "\n",
    "def FITS_download(base_url=\"https://fits.geonet.org.nz/observation\", new=True):\n",
    "    \"\"\"\n",
    "    Download all gas flux data for White Island.\n",
    "    \"\"\"\n",
    "    url = \"{}?siteID={}&typeID=SO2-flux-a&methodID={}\"\n",
    "    dfs = []\n",
    "    for station in ['WI301', 'WI302']:\n",
    "        for method in ['mdoas-ah', 'mdoas-ch']:\n",
    "            fits_cache = os.path.join('/tmp', \"Plot_{}_{}.csv\".format(station, method))\n",
    "            if os.path.isfile(fits_cache) and not new:\n",
    "                df = pd.read_csv(fits_cache, parse_dates=[0],\n",
    "                             skiprows=1, names=[method.replace('mdoas-','')])\n",
    "            else:\n",
    "                df = pd.read_csv(url.format(base_url, station, method), \n",
    "                                 parse_dates=[0],\n",
    "                                 skiprows=1, names=['date', method.replace('mdoas-','')],\n",
    "                                 usecols=[0, 1])\n",
    "                df.to_csv(fits_cache)\n",
    "            dfs.append(df)\n",
    "    return dfs\n",
    "dfs = FITS_download(new=True)"
   ]
  },
  {
   "cell_type": "code",
   "execution_count": null,
   "metadata": {},
   "outputs": [],
   "source": [
    "df1 = pd.merge(dfs[0], dfs[1], left_on='date', right_on='date', how='outer')\n",
    "df2 = pd.merge(dfs[2], dfs[3], left_on='date', right_on='date', how='outer')\n",
    "index1 = pd.MultiIndex.from_arrays([['WI301', 'WI301', 'WI301'],['date', 'ah', 'ch']])\n",
    "df1.columns = index1\n",
    "index2 = pd.MultiIndex.from_arrays([['WI302', 'WI302', 'WI302'],['date', 'ah', 'ch']])\n",
    "df2.columns = index2\n",
    "df_nzdt = to_NZDT(df1['WI301']['date'])\n",
    "cols = pd.MultiIndex.from_arrays([['WI301', 'WI301'],['NZDT', 'UTC']])\n",
    "df_nzdt.columns = cols\n",
    "df1 = pd.merge(df1, df_nzdt, left_index=True, right_index=True, how='outer')\n",
    "#df_tmp = pd.DataFrame({'ah-tpd': df1.loc[:, ('WI301','mdoas-ah')].values*86.4})\n",
    "#df_tmp.columns = pd.MultiIndex.from_arrays([['WI301'],['ah-tpd']])\n",
    "#df1 = pd.merge(df1, df_tmp, left_index=True, right_index=True, how='outer')\n",
    "df1.loc[:, ('WI301','ahtpd')] = df1.loc[:, ('WI301','ah')]*86.4\n",
    "df1.loc[:, ('WI301','chtpd')] = df1.loc[:, ('WI301','ch')]*86.4\n",
    "\n",
    "df_nzdt = to_NZDT(df2['WI302']['date'])\n",
    "cols = pd.MultiIndex.from_arrays([['WI302', 'WI302'],['NZDT', 'UTC']])\n",
    "df_nzdt.columns = cols\n",
    "df2 = pd.merge(df2, df_nzdt, left_index=True, right_index=True, how='outer')\n",
    "df2.loc[:, ('WI302','ahtpd')] = df2.loc[:, ('WI302','ah')]*86.4\n",
    "df2.loc[:, ('WI302','chtpd')] = df2.loc[:, ('WI302','ch')]*86.4"
   ]
  },
  {
   "cell_type": "code",
   "execution_count": null,
   "metadata": {},
   "outputs": [],
   "source": [
    "from bokeh.models import HoverTool\n",
    "ah_hover = HoverTool(tooltips=[\n",
    "    (\"ah [kg/s]\", \"@ah\"),\n",
    "    (\"ah [t/d]\", \"@ahtpd\"),\n",
    "    (\"date\", \"@UTC\"),\n",
    "    (\"NZDT\", \"@NZDT\"),\n",
    "])\n",
    "\n",
    "\n",
    "\n",
    "ch_hover = HoverTool(tooltips=[\n",
    "    (\"ch [kg/s]\", \"@ch\"),\n",
    "    (\"ch [t/d]\", \"@chtpd\"),\n",
    "    (\"date\", \"@UTC\"),\n",
    "    (\"NZDT\", \"@NZDT\"),\n",
    "])"
   ]
  },
  {
   "cell_type": "code",
   "execution_count": null,
   "metadata": {},
   "outputs": [],
   "source": [
    "%%output size=150\n",
    "%%opts  Scatter [height=200 width=600] (size=5)\n",
    "scatter_dict = {'mdoas-ah': hv.Scatter(df1['WI301'], kdims=['date'], vdims=['ah', 'NZDT', \n",
    "                                                                            'UTC', 'ahtpd']).opts(plot=dict(tools=[ah_hover])),\n",
    "                'mdoas-ch': hv.Scatter(df1['WI301'], kdims=['date'], vdims=['ch', 'NZDT', \n",
    "                                                                            'UTC', 'chtpd']).opts(plot=dict(tools=[ch_hover]))}\n",
    "nd = hv.NdOverlay(scatter_dict, kdims='type')\n",
    "nd\n"
   ]
  },
  {
   "cell_type": "code",
   "execution_count": null,
   "metadata": {},
   "outputs": [],
   "source": [
    "%%output size=150\n",
    "%%opts  Scatter [height=200 width=600] (size=5)\n",
    "scatter_dict = {'mdoas-ah': hv.Scatter(df2['WI302'], kdims=['date'], vdims=['ah', 'NZDT', \n",
    "                                                                            'UTC', 'ahtpd']).opts(plot=dict(tools=[ah_hover])),\n",
    "                'mdoas-ch': hv.Scatter(df2['WI302'], kdims=['date'], vdims=['ch', 'NZDT', \n",
    "                                                                            'UTC', 'chtpd']).opts(plot=dict(tools=[ch_hover]))}\n",
    "nd = hv.NdOverlay(scatter_dict, kdims='type')\n",
    "nd\n"
   ]
  },
  {
   "cell_type": "code",
   "execution_count": null,
   "metadata": {},
   "outputs": [],
   "source": []
  }
 ],
 "metadata": {
  "kernelspec": {
   "display_name": "Python 3 Conda",
   "language": "python",
   "name": "python3_conda"
  },
  "language_info": {
   "codemirror_mode": {
    "name": "ipython",
    "version": 3
   },
   "file_extension": ".py",
   "mimetype": "text/x-python",
   "name": "python",
   "nbconvert_exporter": "python",
   "pygments_lexer": "ipython3",
   "version": "3.6.4"
  }
 },
 "nbformat": 4,
 "nbformat_minor": 2
}
